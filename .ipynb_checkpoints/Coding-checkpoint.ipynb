{
 "cells": [
  {
   "cell_type": "markdown",
   "metadata": {},
   "source": [
    "1. Given a matrix with m x n dimensions, print its elements in spiral form.\n",
    "\n",
    "For example:\n",
    "\n",
    "Given:\n",
    "a = [ [10, 2, 11],\n",
    "[1, 3, 4],\n",
    "[8, 7, 9] ]\n",
    "\n",
    "Your function should return:\n",
    "[10, 2, 11, 4, 9, 7, 8, 1, 3]"
   ]
  },
  {
   "cell_type": "code",
   "execution_count": 1,
   "metadata": {},
   "outputs": [],
   "source": [
    "def get_spiral(matrix):\n",
    "    # record min and max for rows and columns\n",
    "    min_row = 0\n",
    "    max_row = len(matrix)-1\n",
    "    min_col = 0\n",
    "    max_col = len(matrix[0])-1\n",
    "    \n",
    "    spiral_list = []\n",
    "    while min_row <= max_row and min_col <= max_col:\n",
    "        #get the most top row\n",
    "        for i in range(min_col,max_col+1):\n",
    "            spiral_list.append(matrix[min_row][i])\n",
    "        min_row += 1\n",
    "            \n",
    "        #get the most right column\n",
    "        for i in range(min_row, max_row+1):\n",
    "            spiral_list.append(matrix[i][max_col])\n",
    "        max_col -= 1\n",
    "        \n",
    "        #get the most bottom row\n",
    "        for i in range(max_col,min_col-1,-1):\n",
    "            spiral_list.append(matrix[max_row][i])\n",
    "        max_row -= 1\n",
    "        \n",
    "        #get the most left column\n",
    "        for i in range(max_row, min_row-1, -1):\n",
    "            spiral_list.append(matrix[i][min_col])\n",
    "        min_col += 1\n",
    "            \n",
    "    return spiral_list"
   ]
  },
  {
   "cell_type": "code",
   "execution_count": 2,
   "metadata": {},
   "outputs": [
    {
     "name": "stdout",
     "output_type": "stream",
     "text": [
      "ALL TEST CASES PASSED\n"
     ]
    }
   ],
   "source": [
    "#test cases\n",
    "from nose.tools import assert_equal\n",
    "\n",
    "class TestSpiralForm():\n",
    "    \n",
    "    def test(self,get_spiral):\n",
    "        assert_equal(get_spiral([[10, 2, 11], [1, 3, 4], [8, 7, 9]]), [10, 2, 11, 4, 9, 7, 8, 1,3])\n",
    "        assert_equal(get_spiral([[1, 2, 3], [4, 5, 6], [7, 8, 9],[10,11,12]]), [1,2,3,6,9,12,11,10,7,4,5,8])\n",
    "        assert_equal(get_spiral([[1, 2, 3, 4, 5], [6,7,8,9,10]]), [1,2,3,4,5,10,9,8,7,6])\n",
    "        print('ALL TEST CASES PASSED')\n",
    "        \n",
    "#Run tests\n",
    "t = TestSpiralForm()\n",
    "t.test(get_spiral)"
   ]
  },
  {
   "cell_type": "markdown",
   "metadata": {},
   "source": [
    "2.Suppose you're given an array of strings, s. Write a function using Python to take each string in the array and reverse it.\n",
    "\n",
    "For example:\n",
    "\n",
    "#Given the following:\n",
    "s = ['rac', 'talf', 'tot', 'tob']\n",
    "\n",
    "#Your function should return:\n",
    "s = ['car', 'flat', 'tot', 'bot']\n",
    "\n",
    "[the ways for reversing string in python](https://www.geeksforgeeks.org/reverse-string-python-5-different-ways/)"
   ]
  },
  {
   "cell_type": "code",
   "execution_count": 6,
   "metadata": {},
   "outputs": [],
   "source": [
    "def reverse(array):\n",
    "    new_array = []\n",
    "    for string in array:\n",
    "        reversed_string = ''\n",
    "        for i in range(len(string)):\n",
    "            reversed_string = string[i] + reversed_string\n",
    "        new_array.append(reversed_string)\n",
    "    return new_array"
   ]
  },
  {
   "cell_type": "code",
   "execution_count": 7,
   "metadata": {},
   "outputs": [
    {
     "data": {
      "text/plain": [
       "['car', 'flat', 'tot', 'bot']"
      ]
     },
     "execution_count": 7,
     "metadata": {},
     "output_type": "execute_result"
    }
   ],
   "source": [
    "s = ['rac', 'talf', 'tot', 'tob']\n",
    "reverse(s)"
   ]
  },
  {
   "cell_type": "code",
   "execution_count": 8,
   "metadata": {},
   "outputs": [
    {
     "name": "stdout",
     "output_type": "stream",
     "text": [
      "ALL TEST CASES PASSED\n"
     ]
    }
   ],
   "source": [
    "from nose.tools import assert_equal\n",
    "\n",
    "class TestReverseString():\n",
    "    \n",
    "    def test(self,reverse):\n",
    "        assert_equal(reverse(['rac', 'talf', 'tot', 'tob']),['car', 'flat', 'tot', 'bot'] )\n",
    "        assert_equal(reverse(['c','abc','ab']), ['c','cba','ba'])\n",
    "        print('ALL TEST CASES PASSED')\n",
    "        \n",
    "#Run tests\n",
    "t = TestReverseString()\n",
    "t.test(reverse)"
   ]
  },
  {
   "cell_type": "code",
   "execution_count": null,
   "metadata": {},
   "outputs": [],
   "source": []
  }
 ],
 "metadata": {
  "kernelspec": {
   "display_name": "Python 3",
   "language": "python",
   "name": "python3"
  },
  "language_info": {
   "codemirror_mode": {
    "name": "ipython",
    "version": 3
   },
   "file_extension": ".py",
   "mimetype": "text/x-python",
   "name": "python",
   "nbconvert_exporter": "python",
   "pygments_lexer": "ipython3",
   "version": "3.6.8"
  }
 },
 "nbformat": 4,
 "nbformat_minor": 2
}
