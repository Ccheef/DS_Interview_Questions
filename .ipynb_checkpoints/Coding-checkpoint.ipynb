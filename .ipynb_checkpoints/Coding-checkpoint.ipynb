{
 "cells": [
  {
   "cell_type": "markdown",
   "metadata": {},
   "source": [
    "1. Given a matrix with m x n dimensions, print its elements in spiral form.\n",
    "\n",
    "For example:\n",
    "\n",
    "Given:\n",
    "a = [ [10, 2, 11],\n",
    "[1, 3, 4],\n",
    "[8, 7, 9] ]\n",
    "\n",
    "Your function should return:\n",
    "[10, 2, 11, 4, 9, 7, 8, 1, 3]"
   ]
  },
  {
   "cell_type": "code",
   "execution_count": 1,
   "metadata": {},
   "outputs": [],
   "source": [
    "def get_spiral(matrix):\n",
    "    # record min and max for rows and columns\n",
    "    min_row = 0\n",
    "    max_row = len(matrix)-1\n",
    "    min_col = 0\n",
    "    max_col = len(matrix[0])-1\n",
    "    \n",
    "    spiral_list = []\n",
    "    while min_row <= max_row and min_col <= max_col:\n",
    "        #get the most top row\n",
    "        for i in range(min_col,max_col+1):\n",
    "            spiral_list.append(matrix[min_row][i])\n",
    "        min_row += 1\n",
    "            \n",
    "        #get the most right column\n",
    "        for i in range(min_row, max_row+1):\n",
    "            spiral_list.append(matrix[i][max_col])\n",
    "        max_col -= 1\n",
    "        \n",
    "        #get the most bottom row\n",
    "        for i in range(max_col,min_col-1,-1):\n",
    "            spiral_list.append(matrix[max_row][i])\n",
    "        max_row -= 1\n",
    "        \n",
    "        #get the most left column\n",
    "        for i in range(max_row, min_row-1, -1):\n",
    "            spiral_list.append(matrix[i][min_col])\n",
    "        min_col += 1\n",
    "            \n",
    "    return spiral_list"
   ]
  },
  {
   "cell_type": "code",
   "execution_count": 2,
   "metadata": {},
   "outputs": [
    {
     "name": "stdout",
     "output_type": "stream",
     "text": [
      "ALL TEST CASES PASSED\n"
     ]
    }
   ],
   "source": [
    "#test cases\n",
    "from nose.tools import assert_equal\n",
    "\n",
    "class TestSpiralForm():\n",
    "    \n",
    "    def test(self,get_spiral):\n",
    "        assert_equal(get_spiral([[10, 2, 11], [1, 3, 4], [8, 7, 9]]), [10, 2, 11, 4, 9, 7, 8, 1,3])\n",
    "        assert_equal(get_spiral([[1, 2, 3], [4, 5, 6], [7, 8, 9],[10,11,12]]), [1,2,3,6,9,12,11,10,7,4,5,8])\n",
    "        assert_equal(get_spiral([[1, 2, 3, 4, 5], [6,7,8,9,10]]), [1,2,3,4,5,10,9,8,7,6])\n",
    "        print('ALL TEST CASES PASSED')\n",
    "        \n",
    "#Run tests\n",
    "t = TestSpiralForm()\n",
    "t.test(get_spiral)"
   ]
  },
  {
   "cell_type": "markdown",
   "metadata": {},
   "source": [
    "2.Suppose you're given an array of strings, s. Write a function using Python to take each string in the array and reverse it.\n",
    "\n",
    "For example:\n",
    "\n",
    "#Given the following:\n",
    "s = ['rac', 'talf', 'tot', 'tob']\n",
    "\n",
    "#Your function should return:\n",
    "s = ['car', 'flat', 'tot', 'bot']\n",
    "\n",
    "[the ways for reversing string in python](https://www.geeksforgeeks.org/reverse-string-python-5-different-ways/)"
   ]
  },
  {
   "cell_type": "code",
   "execution_count": 6,
   "metadata": {},
   "outputs": [],
   "source": [
    "def reverse(array):\n",
    "    new_array = []\n",
    "    for string in array:\n",
    "        reversed_string = ''\n",
    "        for i in range(len(string)):\n",
    "            reversed_string = string[i] + reversed_string\n",
    "        new_array.append(reversed_string)\n",
    "    return new_array"
   ]
  },
  {
   "cell_type": "code",
   "execution_count": 7,
   "metadata": {},
   "outputs": [
    {
     "data": {
      "text/plain": [
       "['car', 'flat', 'tot', 'bot']"
      ]
     },
     "execution_count": 7,
     "metadata": {},
     "output_type": "execute_result"
    }
   ],
   "source": [
    "s = ['rac', 'talf', 'tot', 'tob']\n",
    "reverse(s)"
   ]
  },
  {
   "cell_type": "code",
   "execution_count": 8,
   "metadata": {},
   "outputs": [
    {
     "name": "stdout",
     "output_type": "stream",
     "text": [
      "ALL TEST CASES PASSED\n"
     ]
    }
   ],
   "source": [
    "from nose.tools import assert_equal\n",
    "\n",
    "class TestReverseString():\n",
    "    \n",
    "    def test(self,reverse):\n",
    "        assert_equal(reverse(['rac', 'talf', 'tot', 'tob']),['car', 'flat', 'tot', 'bot'] )\n",
    "        assert_equal(reverse(['c','abc','ab']), ['c','cba','ba'])\n",
    "        print('ALL TEST CASES PASSED')\n",
    "        \n",
    "#Run tests\n",
    "t = TestReverseString()\n",
    "t.test(reverse)"
   ]
  },
  {
   "cell_type": "markdown",
   "metadata": {},
   "source": [
    "3. Given an array of integers (positive and negative) write a program that can find the largest continuous sum. You just need to return the total sum amount, not the sequence.\n"
   ]
  },
  {
   "cell_type": "code",
   "execution_count": 1,
   "metadata": {},
   "outputs": [],
   "source": [
    "def large_count_sum(array):\n",
    "    #edge case\n",
    "    if len(array) == 0:\n",
    "        return 0\n",
    "    \n",
    "    current_sum = array[0]\n",
    "    max_sum = array[0]\n",
    "    \n",
    "    for i in array[1:]:\n",
    "        #keep adding the numbers as long as the current sum is positive, otherwise we start a new current sum\n",
    "        current_sum = max(current_sum+i, i)\n",
    "        #get the larger number between the stored max sum so far and the current sum\n",
    "        max_sum = max(max_sum, current_sum)\n",
    "        \n",
    "    return max_sum"
   ]
  },
  {
   "cell_type": "code",
   "execution_count": 3,
   "metadata": {},
   "outputs": [
    {
     "name": "stdout",
     "output_type": "stream",
     "text": [
      "ALL TEST CASES PASSED\n"
     ]
    }
   ],
   "source": [
    "from nose.tools import assert_equal\n",
    "\n",
    "class large_count_sum_test():\n",
    "    \n",
    "    def test(self,large_count_sum):\n",
    "        assert_equal(large_count_sum([7,8,9]),24 )\n",
    "        assert_equal(large_count_sum([-1,7,8,9,-10]), 24)\n",
    "        assert_equal(large_count_sum([2,3,-10,9,2]), 11)\n",
    "        assert_equal(large_count_sum([2,11,-10,9,2]), 14)\n",
    "        assert_equal(large_count_sum([12,-10,7,-8,4,6]), 12)\n",
    "        print('ALL TEST CASES PASSED')\n",
    "        \n",
    "#Run tests\n",
    "t = large_count_sum_test()\n",
    "t.test(large_count_sum)"
   ]
  },
  {
   "cell_type": "markdown",
   "metadata": {},
   "source": [
    "4. Given a string in the form 'AAAABBBBCCCCCDDEEEE' compress it to become 'A4B4C5D2E4'. The function should also be case sensitive, so that a string 'AAAaaa' returns 'A3a3'. It is okay for 'AAB' to return 'A2B1' even though this technically takes more space."
   ]
  },
  {
   "cell_type": "code",
   "execution_count": 4,
   "metadata": {},
   "outputs": [],
   "source": [
    "def compress_letters(string):\n",
    "    #the compressed string to return \n",
    "    return_string = ''\n",
    "    #edge case\n",
    "    if len(string) == 0:\n",
    "        return return_string\n",
    "    #start from the first letter and set initial counter as 1 so that we can compare in the for loop\n",
    "    count = 1\n",
    "    letter_before = string[0]\n",
    "    \n",
    "    for letter in string[1:]:\n",
    "        #if the two consecutive letters are the same, we increment the counter\n",
    "        if letter == letter_before:\n",
    "            count = count+1\n",
    "        #otherwise we compress the string and set counter back to 1\n",
    "        else:\n",
    "            return_string = return_string + letter_before + str(count)\n",
    "            count = 1\n",
    "            \n",
    "        letter_before = letter\n",
    "    #finally add the last compressed digits into the compressed string\n",
    "    return_string = return_string + letter_before + str(count)  \n",
    "    \n",
    "    return return_string"
   ]
  },
  {
   "cell_type": "code",
   "execution_count": 5,
   "metadata": {},
   "outputs": [
    {
     "name": "stdout",
     "output_type": "stream",
     "text": [
      "ALL TEST CASES PASSED\n"
     ]
    }
   ],
   "source": [
    "from nose.tools import assert_equal\n",
    "\n",
    "class compress_letters_test():\n",
    "    \n",
    "    def test(self,compress_letters):\n",
    "        assert_equal(compress_letters('AAABBC'),'A3B3C1' )\n",
    "        assert_equal(compress_letters('AAAaa'),'A3a2' )\n",
    "        assert_equal(compress_letters('ABC'),'A1B1C1' )\n",
    "        assert_equal(compress_letters(''),'' )\n",
    "        print('ALL TEST CASES PASSED')\n",
    "        \n",
    "#Run tests\n",
    "t = large_count_sum_test()\n",
    "t.test(large_count_sum)"
   ]
  },
  {
   "cell_type": "code",
   "execution_count": null,
   "metadata": {},
   "outputs": [],
   "source": []
  }
 ],
 "metadata": {
  "kernelspec": {
   "display_name": "Python 3",
   "language": "python",
   "name": "python3"
  },
  "language_info": {
   "codemirror_mode": {
    "name": "ipython",
    "version": 3
   },
   "file_extension": ".py",
   "mimetype": "text/x-python",
   "name": "python",
   "nbconvert_exporter": "python",
   "pygments_lexer": "ipython3",
   "version": "3.6.8"
  }
 },
 "nbformat": 4,
 "nbformat_minor": 2
}
